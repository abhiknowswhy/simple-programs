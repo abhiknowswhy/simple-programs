{
 "cells": [
  {
   "cell_type": "markdown",
   "metadata": {},
   "source": [
    "# Bloom Filter\n",
    "\n",
    "A **Bloom filter** is a space-efficient probabilistic data structure used to test whether an element is a member of a set. It can produce **false positives** (i.e., it might say an element is in the set when it's not) but **never false negatives** (if it says an element is not in the set, it's definitely not there). This makes it useful in applications like caching, network security, and database indexing.\n",
    "\n",
    "### How It Works:\n",
    "1. It uses **multiple hash functions** to map elements to a **bit array**.\n",
    "2. When adding an element, the corresponding bits in the array are set to 1.\n",
    "3. To check for membership, the same hash functions are used:\n",
    "   - If **all bits** at the hash locations are **1**, the element **might** be in the set.\n",
    "   - If **any bit** is **0**, the element **is definitely not** in the set.\n",
    "\n",
    "Video explanation (Bytebytego): https://www.youtube.com/watch?v=V3pzxngeLqw\n",
    "\n",
    "Would you like a variation that dynamically adjusts based on the false positive rate? 🚀"
   ]
  },
  {
   "cell_type": "code",
   "execution_count": null,
   "metadata": {},
   "outputs": [
    {
     "name": "stdout",
     "output_type": "stream",
     "text": [
      "True\n",
      "False\n",
      "True\n"
     ]
    }
   ],
   "source": [
    "import mmh3  # a Python extension for MurmurHash (MurmurHash3), a set of fast and robust non-cryptographic hash functions invented by Austin Appleby.\n",
    "from bitarray import bitarray # This library provides an object type which efficiently represents an array of booleans. \n",
    "\n",
    "class BloomFilter:\n",
    "    def __init__(self, size, hash_count):\n",
    "        self.size = size  # Size of bit array\n",
    "        self.hash_count = hash_count  # Number of hash functions\n",
    "        self.bit_array = bitarray(size)\n",
    "        self.bit_array.setall(0)  # Initialize bit array with zeros\n",
    "\n",
    "    def add(self, item):\n",
    "        \"\"\"Adds an item to the Bloom filter.\"\"\"\n",
    "        for i in range(self.hash_count):\n",
    "            index = mmh3.hash(item, i) % self.size\n",
    "            self.bit_array[index] = 1\n",
    "\n",
    "    def contains(self, item):\n",
    "        \"\"\"Checks if an item is possibly in the Bloom filter.\"\"\"\n",
    "        for i in range(self.hash_count):\n",
    "            index = mmh3.hash(item, i) % self.size\n",
    "            if self.bit_array[index] == 0:\n",
    "                return False  # Definitely not in the set\n",
    "        return True  # Possibly in the set\n",
    "\n",
    "# Example usage\n",
    "bf = BloomFilter(size=1000, hash_count=5)\n",
    "\n",
    "# Add items\n",
    "bf.add(\"apple\")\n",
    "bf.add(\"banana\")\n",
    "\n",
    "# Check membership\n",
    "print(bf.contains(\"apple\"))  # True (probably)\n",
    "print(bf.contains(\"pineapple\"))  # True (probably)\n",
    "print(bf.contains(\"banana\")) # False (definitely not)"
   ]
  },
  {
   "cell_type": "markdown",
   "metadata": {},
   "source": [
    "### Explanation:\n",
    "- The **bitarray** library is used for efficient bit storage.\n",
    "- **MurmurHash (mmh3)** is a fast, non-cryptographic hash function.\n",
    "- The **add()** function hashes the item with multiple hash functions and sets bits.\n",
    "- The **contains()** function checks if all the corresponding bits are set.\n"
   ]
  }
 ],
 "metadata": {
  "kernelspec": {
   "display_name": "base",
   "language": "python",
   "name": "python3"
  },
  "language_info": {
   "codemirror_mode": {
    "name": "ipython",
    "version": 3
   },
   "file_extension": ".py",
   "mimetype": "text/x-python",
   "name": "python",
   "nbconvert_exporter": "python",
   "pygments_lexer": "ipython3",
   "version": "3.12.7"
  }
 },
 "nbformat": 4,
 "nbformat_minor": 2
}
